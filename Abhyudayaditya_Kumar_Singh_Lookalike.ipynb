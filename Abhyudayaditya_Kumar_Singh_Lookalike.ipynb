{
 "cells": [
  {
   "cell_type": "code",
   "execution_count": 1,
   "metadata": {},
   "outputs": [
    {
     "name": "stderr",
     "output_type": "stream",
     "text": [
      "C:\\Users\\abhyu\\AppData\\Roaming\\Python\\Python311\\site-packages\\pandas\\core\\arrays\\masked.py:60: UserWarning: Pandas requires version '1.3.6' or newer of 'bottleneck' (version '1.3.5' currently installed).\n",
      "  from pandas.core import (\n"
     ]
    }
   ],
   "source": [
    "import pandas as pd\n",
    "import numpy as np\n",
    "from sklearn.preprocessing import StandardScaler\n",
    "from sklearn.metrics.pairwise import cosine_similarity"
   ]
  },
  {
   "cell_type": "markdown",
   "metadata": {},
   "source": [
    "Loading the dataset"
   ]
  },
  {
   "cell_type": "code",
   "execution_count": 2,
   "metadata": {},
   "outputs": [],
   "source": [
    "customers = pd.read_csv('dataset/Customers.csv')\n",
    "products = pd.read_csv('dataset/Products.csv')\n",
    "transactions = pd.read_csv('dataset/Transactions.csv')"
   ]
  },
  {
   "cell_type": "code",
   "execution_count": 3,
   "metadata": {},
   "outputs": [],
   "source": [
    "# Merge datasets for comprehensive data\n",
    "processed_transactions = transactions.merge(customers, on='CustomerID').merge(products, on='ProductID')"
   ]
  },
  {
   "cell_type": "markdown",
   "metadata": {},
   "source": [
    "Aggregate transaction data for each customer"
   ]
  },
  {
   "cell_type": "code",
   "execution_count": 9,
   "metadata": {},
   "outputs": [
    {
     "name": "stdout",
     "output_type": "stream",
     "text": [
      "  CustomerID  TotalValue  Quantity     Price_x  \\\n",
      "0      C0001     3354.52        12  278.334000   \n",
      "1      C0002     1862.74        10  208.920000   \n",
      "2      C0003     2725.38        14  195.707500   \n",
      "3      C0004     5354.88        23  240.636250   \n",
      "4      C0005     2034.24         7  291.603333   \n",
      "\n",
      "                          Category  \n",
      "0     Books,Home Decor,Electronics  \n",
      "1              Home Decor,Clothing  \n",
      "2  Home Decor,Clothing,Electronics  \n",
      "3     Books,Home Decor,Electronics  \n",
      "4           Home Decor,Electronics  \n"
     ]
    }
   ],
   "source": [
    "#Create customer profiles\n",
    "customer_profiles = processed_transactions.groupby('CustomerID').agg({\n",
    "    'TotalValue': 'sum',\n",
    "    'Quantity': 'sum',\n",
    "    'Price_x': 'mean',\n",
    "    'Category': lambda x: ','.join(x.astype(str).unique())\n",
    "}).reset_index()\n",
    "\n",
    "print(customer_profiles.head())"
   ]
  },
  {
   "cell_type": "code",
   "execution_count": 10,
   "metadata": {},
   "outputs": [
    {
     "name": "stdout",
     "output_type": "stream",
     "text": [
      "  CustomerID  TotalValue  Quantity   Price_x                         Category\n",
      "0      C0001   -0.061701 -0.122033  0.094670     Books,Home Decor,Electronics\n",
      "1      C0002   -0.877744 -0.448000 -0.904016              Home Decor,Clothing\n",
      "2      C0003   -0.405857  0.203934 -1.094109  Home Decor,Clothing,Electronics\n",
      "3      C0004    1.032547  1.670787 -0.447702     Books,Home Decor,Electronics\n",
      "4      C0005   -0.783929 -0.936951  0.285581           Home Decor,Electronics\n"
     ]
    }
   ],
   "source": [
    "# Select numerical features\n",
    "numerical_features = ['TotalValue', 'Quantity', 'Price_x']\n",
    "\n",
    "# Standardize the numerical features\n",
    "customer_profiles[numerical_features] = scaler.fit_transform(customer_profiles[numerical_features])\n",
    "\n",
    "print(customer_profiles.head())"
   ]
  },
  {
   "cell_type": "code",
   "execution_count": 11,
   "metadata": {},
   "outputs": [
    {
     "name": "stdout",
     "output_type": "stream",
     "text": [
      "CustomerID     C0001     C0002     C0003     C0004     C0005     C0006  \\\n",
      "CustomerID                                                               \n",
      "C0001       1.000000  0.104513 -0.524923 -0.925208  0.909351  0.442395   \n",
      "C0002       0.104513  1.000000  0.791531 -0.464035  0.506433 -0.844066   \n",
      "C0003      -0.524923  0.791531  1.000000  0.172432 -0.124725 -0.994780   \n",
      "C0004      -0.925208 -0.464035  0.172432  1.000000 -0.990272 -0.083333   \n",
      "C0005       0.909351  0.506433 -0.124725 -0.990272  1.000000  0.029596   \n",
      "\n",
      "CustomerID     C0007     C0008     C0009     C0010  ...     C0191     C0192  \\\n",
      "CustomerID                                          ...                       \n",
      "C0001       0.957854 -0.980620  0.885035 -0.268370  ...  0.953552  0.875392   \n",
      "C0002      -0.126391 -0.208586  0.552510  0.929885  ...  0.366172  0.561020   \n",
      "C0003      -0.694381  0.426063 -0.070251  0.960431  ... -0.270712 -0.056387   \n",
      "C0004      -0.786871  0.960972 -0.985116 -0.108724  ... -0.969254 -0.975266   \n",
      "C0005       0.784580 -0.928571  0.998476  0.153760  ...  0.984067  0.995941   \n",
      "\n",
      "CustomerID     C0193     C0194     C0195     C0196     C0197     C0198  \\\n",
      "CustomerID                                                               \n",
      "C0001       0.590772 -0.928283 -0.999064  0.431472  0.322620  0.656770   \n",
      "C0002       0.854971  0.076219 -0.068506 -0.850966  0.974669  0.812601   \n",
      "C0003       0.367126  0.631312  0.555466 -0.992705  0.635507  0.290662   \n",
      "C0004      -0.851778  0.765946  0.913077 -0.062481 -0.650336 -0.892231   \n",
      "C0005       0.861752 -0.786650 -0.892508  0.021657  0.683538  0.902453   \n",
      "\n",
      "CustomerID     C0199     C0200  \n",
      "CustomerID                      \n",
      "C0001       0.543288 -0.470679  \n",
      "C0002       0.889215 -0.926208  \n",
      "C0003       0.427997 -0.503792  \n",
      "C0004      -0.806156  0.758721  \n",
      "C0005       0.843168 -0.794058  \n",
      "\n",
      "[5 rows x 199 columns]\n"
     ]
    }
   ],
   "source": [
    "# Calculate cosine similarity\n",
    "cosine_sim = cosine_similarity(customer_profiles[numerical_features])\n",
    "\n",
    "# Convert the similarity matrix to a DataFrame for better readability\n",
    "cosine_sim_df = pd.DataFrame(cosine_sim, index=customer_profiles['CustomerID'], columns=customer_profiles['CustomerID'])\n",
    "\n",
    "print(cosine_sim_df.head())"
   ]
  },
  {
   "cell_type": "markdown",
   "metadata": {},
   "source": [
    "Top 3 similar customers for first 20 customers "
   ]
  },
  {
   "cell_type": "code",
   "execution_count": 15,
   "metadata": {},
   "outputs": [
    {
     "data": {
      "text/html": [
       "<div>\n",
       "<style scoped>\n",
       "    .dataframe tbody tr th:only-of-type {\n",
       "        vertical-align: middle;\n",
       "    }\n",
       "\n",
       "    .dataframe tbody tr th {\n",
       "        vertical-align: top;\n",
       "    }\n",
       "\n",
       "    .dataframe thead th {\n",
       "        text-align: right;\n",
       "    }\n",
       "</style>\n",
       "<table border=\"1\" class=\"dataframe\">\n",
       "  <thead>\n",
       "    <tr style=\"text-align: right;\">\n",
       "      <th></th>\n",
       "      <th>CustomerID</th>\n",
       "      <th>SimilarCustomersWithScores</th>\n",
       "    </tr>\n",
       "  </thead>\n",
       "  <tbody>\n",
       "    <tr>\n",
       "      <th>0</th>\n",
       "      <td>C0001</td>\n",
       "      <td>[('C0103', 0.9975729385618538), ('C0092', 0.99...</td>\n",
       "    </tr>\n",
       "    <tr>\n",
       "      <th>1</th>\n",
       "      <td>C0002</td>\n",
       "      <td>[('C0029', 0.9998543931340029), ('C0077', 0.99...</td>\n",
       "    </tr>\n",
       "    <tr>\n",
       "      <th>2</th>\n",
       "      <td>C0003</td>\n",
       "      <td>[('C0111', 0.9984874468302141), ('C0190', 0.99...</td>\n",
       "    </tr>\n",
       "    <tr>\n",
       "      <th>3</th>\n",
       "      <td>C0004</td>\n",
       "      <td>[('C0165', 0.9983897071764074), ('C0162', 0.99...</td>\n",
       "    </tr>\n",
       "    <tr>\n",
       "      <th>4</th>\n",
       "      <td>C0005</td>\n",
       "      <td>[('C0167', 0.9999721868436701), ('C0020', 0.99...</td>\n",
       "    </tr>\n",
       "    <tr>\n",
       "      <th>5</th>\n",
       "      <td>C0006</td>\n",
       "      <td>[('C0168', 0.9976122332196319), ('C0196', 0.99...</td>\n",
       "    </tr>\n",
       "    <tr>\n",
       "      <th>6</th>\n",
       "      <td>C0007</td>\n",
       "      <td>[('C0125', 0.9998486580402707), ('C0089', 0.99...</td>\n",
       "    </tr>\n",
       "    <tr>\n",
       "      <th>7</th>\n",
       "      <td>C0008</td>\n",
       "      <td>[('C0084', 0.9960866913262758), ('C0113', 0.99...</td>\n",
       "    </tr>\n",
       "    <tr>\n",
       "      <th>8</th>\n",
       "      <td>C0009</td>\n",
       "      <td>[('C0130', 0.9999651017117013), ('C0128', 0.99...</td>\n",
       "    </tr>\n",
       "    <tr>\n",
       "      <th>9</th>\n",
       "      <td>C0010</td>\n",
       "      <td>[('C0176', 0.9994511608148322), ('C0055', 0.99...</td>\n",
       "    </tr>\n",
       "    <tr>\n",
       "      <th>10</th>\n",
       "      <td>C0011</td>\n",
       "      <td>[('C0023', 0.9991440715038482), ('C0139', 0.98...</td>\n",
       "    </tr>\n",
       "    <tr>\n",
       "      <th>11</th>\n",
       "      <td>C0012</td>\n",
       "      <td>[('C0101', 0.9999587274161242), ('C0093', 0.99...</td>\n",
       "    </tr>\n",
       "    <tr>\n",
       "      <th>12</th>\n",
       "      <td>C0013</td>\n",
       "      <td>[('C0021', 0.9996872905926021), ('C0141', 0.99...</td>\n",
       "    </tr>\n",
       "    <tr>\n",
       "      <th>13</th>\n",
       "      <td>C0014</td>\n",
       "      <td>[('C0097', 0.9987194918246621), ('C0043', 0.99...</td>\n",
       "    </tr>\n",
       "    <tr>\n",
       "      <th>14</th>\n",
       "      <td>C0015</td>\n",
       "      <td>[('C0058', 0.9988538808142926), ('C0186', 0.99...</td>\n",
       "    </tr>\n",
       "    <tr>\n",
       "      <th>15</th>\n",
       "      <td>C0016</td>\n",
       "      <td>[('C0040', 0.9996938077843687), ('C0107', 0.99...</td>\n",
       "    </tr>\n",
       "    <tr>\n",
       "      <th>16</th>\n",
       "      <td>C0017</td>\n",
       "      <td>[('C0113', 0.9996650162383117), ('C0084', 0.99...</td>\n",
       "    </tr>\n",
       "    <tr>\n",
       "      <th>17</th>\n",
       "      <td>C0018</td>\n",
       "      <td>[('C0041', 0.9939468680584729), ('C0068', 0.99...</td>\n",
       "    </tr>\n",
       "    <tr>\n",
       "      <th>18</th>\n",
       "      <td>C0019</td>\n",
       "      <td>[('C0166', 0.9972891718322159), ('C0031', 0.99...</td>\n",
       "    </tr>\n",
       "    <tr>\n",
       "      <th>19</th>\n",
       "      <td>C0020</td>\n",
       "      <td>[('C0005', 0.99971426883456), ('C0128', 0.9995...</td>\n",
       "    </tr>\n",
       "  </tbody>\n",
       "</table>\n",
       "</div>"
      ],
      "text/plain": [
       "   CustomerID                         SimilarCustomersWithScores\n",
       "0       C0001  [('C0103', 0.9975729385618538), ('C0092', 0.99...\n",
       "1       C0002  [('C0029', 0.9998543931340029), ('C0077', 0.99...\n",
       "2       C0003  [('C0111', 0.9984874468302141), ('C0190', 0.99...\n",
       "3       C0004  [('C0165', 0.9983897071764074), ('C0162', 0.99...\n",
       "4       C0005  [('C0167', 0.9999721868436701), ('C0020', 0.99...\n",
       "5       C0006  [('C0168', 0.9976122332196319), ('C0196', 0.99...\n",
       "6       C0007  [('C0125', 0.9998486580402707), ('C0089', 0.99...\n",
       "7       C0008  [('C0084', 0.9960866913262758), ('C0113', 0.99...\n",
       "8       C0009  [('C0130', 0.9999651017117013), ('C0128', 0.99...\n",
       "9       C0010  [('C0176', 0.9994511608148322), ('C0055', 0.99...\n",
       "10      C0011  [('C0023', 0.9991440715038482), ('C0139', 0.98...\n",
       "11      C0012  [('C0101', 0.9999587274161242), ('C0093', 0.99...\n",
       "12      C0013  [('C0021', 0.9996872905926021), ('C0141', 0.99...\n",
       "13      C0014  [('C0097', 0.9987194918246621), ('C0043', 0.99...\n",
       "14      C0015  [('C0058', 0.9988538808142926), ('C0186', 0.99...\n",
       "15      C0016  [('C0040', 0.9996938077843687), ('C0107', 0.99...\n",
       "16      C0017  [('C0113', 0.9996650162383117), ('C0084', 0.99...\n",
       "17      C0018  [('C0041', 0.9939468680584729), ('C0068', 0.99...\n",
       "18      C0019  [('C0166', 0.9972891718322159), ('C0031', 0.99...\n",
       "19      C0020  [('C0005', 0.99971426883456), ('C0128', 0.9995..."
      ]
     },
     "execution_count": 15,
     "metadata": {},
     "output_type": "execute_result"
    }
   ],
   "source": [
    "# Extract the top 3 similar customers with their similarity scores for the first 20 customers\n",
    "top_3_lookalikes_with_scores = {}\n",
    "for customer_id in customer_profiles['CustomerID'][:20]:\n",
    "    similar_customers = cosine_sim_df.loc[customer_id].nlargest(4).iloc[1:]\n",
    "    top_3_lookalikes_with_scores[customer_id] = list(similar_customers.items())\n",
    "\n",
    "\n",
    "lookalike_with_scores_df = pd.DataFrame({\n",
    "    'CustomerID': list(top_3_lookalikes_with_scores.keys()),\n",
    "    'SimilarCustomersWithScores': [str(v) for v in top_3_lookalikes_with_scores.values()]\n",
    "})\n",
    "\n",
    "# Save the DataFrame to a CSV file\n",
    "lookalike_with_scores_df.to_csv('Lookalike_with_scores.csv', index=False)\n",
    "\n",
    "lookalike_with_scores_df.head(20)"
   ]
  },
  {
   "cell_type": "markdown",
   "metadata": {},
   "source": [
    "Example Recommendation\n",
    "for Customer based on what other customers buy and their similarity scores"
   ]
  },
  {
   "cell_type": "code",
   "execution_count": 16,
   "metadata": {},
   "outputs": [
    {
     "name": "stdout",
     "output_type": "stream",
     "text": [
      "['ComfortLiving Bluetooth Speaker' 'TechPro Running Shoes'\n",
      " 'ActiveWear Cookware Set' 'HomeSense T-Shirt' 'HomeSense Desk Lamp'\n",
      " 'ComfortLiving Cookware Set' 'ActiveWear Smartwatch' 'TechPro Smartwatch'\n",
      " 'SoundWave Jeans' 'TechPro Cookbook' 'ComfortLiving Headphones']\n"
     ]
    }
   ],
   "source": [
    "def recommend_products(customer_id, top_n=5):\n",
    "    # Get the top similar customers\n",
    "    similar_customers = cosine_sim_df[customer_id].nlargest(top_n + 1).iloc[1:].index\n",
    "    \n",
    "    # Get the products purchased by the similar customers\n",
    "    similar_customers_transactions = processed_transactions[processed_transactions['CustomerID'].isin(similar_customers)]\n",
    "    \n",
    "    # Get the products purchased by the target customer\n",
    "    customer_transactions = processed_transactions[processed_transactions['CustomerID'] == customer_id]\n",
    "    \n",
    "    # Recommend products that similar customers have purchased but the target customer has not\n",
    "    recommended_products = similar_customers_transactions[~similar_customers_transactions['ProductID'].isin(customer_transactions['ProductID'])]['ProductName'].unique()\n",
    "    \n",
    "    return recommended_products\n",
    "\n",
    "# Example recommendations for customer 'C0020'\n",
    "recommendations = recommend_products('C0020')\n",
    "print(recommendations)"
   ]
  }
 ],
 "metadata": {
  "kernelspec": {
   "display_name": "base",
   "language": "python",
   "name": "python3"
  },
  "language_info": {
   "codemirror_mode": {
    "name": "ipython",
    "version": 3
   },
   "file_extension": ".py",
   "mimetype": "text/x-python",
   "name": "python",
   "nbconvert_exporter": "python",
   "pygments_lexer": "ipython3",
   "version": "3.11.5"
  }
 },
 "nbformat": 4,
 "nbformat_minor": 2
}
